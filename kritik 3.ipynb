{
 "cells": [
  {
   "cell_type": "code",
   "execution_count": null,
   "id": "e0ede1db",
   "metadata": {},
   "outputs": [],
   "source": [
    "def central_difference(f, x, delta=1e-8):\n",
    "    \"\"\"\n",
    "    Approximates the derivative of the function f(x) using central difference method.\n",
    "    \n",
    "    Parameters:\n",
    "    f : function\n",
    "        The function for which to approximate the derivative\n",
    "    x : float\n",
    "        The point at which to approximate the derivative\n",
    "    delta : float, optional\n",
    "        The small change in x for the central difference method\n",
    "        \n",
    "    Returns:\n",
    "    float\n",
    "        The approximate derivative of f(x)\n",
    "    \"\"\"\n",
    "    return (f(x + delta) - f(x - delta)) / (2 * delta)\n",
    "\n",
    "def linear_approximation(f, c, x):\n",
    "    \"\"\"\n",
    "    Uses linear approximation of f(x) around c with the approximated derivative.\n",
    "    \n",
    "    Parameters:\n",
    "    f : function\n",
    "        The function for which to compute the linear approximation\n",
    "    c : float\n",
    "        The point around which to compute the linear approximation\n",
    "    x : float\n",
    "        The point at which to evaluate the linear approximation\n",
    "        \n",
    "    Returns:\n",
    "    float\n",
    "        The value of the linear approximation at x\n",
    "    \"\"\"\n",
    "    derivative_at_c = central_difference(f, c)\n",
    "    return f(c) + derivative_at_c * (x - c)\n",
    "\n",
    "# Example function\n",
    "def example_function(x):\n",
    "    return x**2\n",
    "\n",
    "# Example usage\n",
    "c = 1.0  # Point around which to compute the linear approximation\n",
    "E = 1e-6  # Error value\n",
    "\n",
    "# Approximate derivative of f(x) at c\n",
    "approx_derivative = central_difference(example_function, c)\n",
    "print(\"Approximated derivative at c:\", approx_derivative)\n",
    "\n",
    "# Co\n"
   ]
  }
 ],
 "metadata": {
  "kernelspec": {
   "display_name": "Python 3 (ipykernel)",
   "language": "python",
   "name": "python3"
  },
  "language_info": {
   "codemirror_mode": {
    "name": "ipython",
    "version": 3
   },
   "file_extension": ".py",
   "mimetype": "text/x-python",
   "name": "python",
   "nbconvert_exporter": "python",
   "pygments_lexer": "ipython3",
   "version": "3.11.4"
  }
 },
 "nbformat": 4,
 "nbformat_minor": 5
}
