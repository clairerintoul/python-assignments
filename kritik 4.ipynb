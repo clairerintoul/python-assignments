{
 "cells": [
  {
   "cell_type": "code",
   "execution_count": null,
   "id": "7ef7dc77",
   "metadata": {},
   "outputs": [],
   "source": [
    "import numpy as np\n",
    "import matplotlib.pyplot as plt\n",
    "\n",
    "def gradient_descent(x0, f, grad_f, alpha, num_iterations):\n",
    "    \"\"\"\n",
    "    Gradient Descent Optimization Algorithm\n",
    "    \n",
    "    Parameters:\n",
    "    x0 : float\n",
    "        Initial point\n",
    "    f : function\n",
    "        The objective function f(x)\n",
    "    grad_f : function\n",
    "        The gradient of the objective function ∇f(x)\n",
    "    alpha : float\n",
    "        Learning rate\n",
    "    num_iterations : int\n",
    "        Maximum number of iterations\n",
    "    \n",
    "    Returns:\n",
    "    x_min : float\n",
    "        The value of the minimum point found by gradient descent\n",
    "    \"\"\"\n",
    "    x = x0\n",
    "    for _ in range(num_iterations):\n",
    "        dx = grad_f(x)\n",
    "        x -= alpha * dx\n",
    "    return x\n",
    "\n",
    "# Define the objective function (quadratic)\n",
    "def f(x):\n",
    "    return x**2\n",
    "\n",
    "# Define the gradient of the objective function\n",
    "def grad_f(x):\n",
    "    return 2 * x\n",
    "\n",
    "# Initial point\n",
    "x0 = 4.0\n",
    "\n",
    "# Learning rate\n",
    "alpha = 0.1\n",
    "\n",
    "# Maximum number of iterations\n",
    "num_iterations = 100\n",
    "\n",
    "# Run gradient descent\n",
    "x_min = gradient_descent(x0, f, grad_f, alpha, num_iterations)\n",
    "\n",
    "print(\"Minimum point:\", x_min)\n",
    "print(\"Minimum value:\", f(x_min))\n"
   ]
  }
 ],
 "metadata": {
  "kernelspec": {
   "display_name": "Python 3 (ipykernel)",
   "language": "python",
   "name": "python3"
  },
  "language_info": {
   "codemirror_mode": {
    "name": "ipython",
    "version": 3
   },
   "file_extension": ".py",
   "mimetype": "text/x-python",
   "name": "python",
   "nbconvert_exporter": "python",
   "pygments_lexer": "ipython3",
   "version": "3.11.4"
  }
 },
 "nbformat": 4,
 "nbformat_minor": 5
}
