{
 "cells": [
  {
   "cell_type": "code",
   "execution_count": null,
   "id": "42c3e26e",
   "metadata": {},
   "outputs": [],
   "source": [
    "def gradient_descent(x0, y0, f, grad_f, alpha, num_iterations):\n",
    "    \"\"\"\n",
    "    Gradient Descent Optimization Algorithm\n",
    "    \n",
    "    Parameters:\n",
    "    x0, y0 : float\n",
    "        Initial point\n",
    "    f : function\n",
    "        The objective function f(x, y)\n",
    "    grad_f : function\n",
    "        The gradient of the objective function ∇f(x, y), returns a tuple (dx, dy)\n",
    "    alpha : float\n",
    "        Learning rate\n",
    "    num_iterations : int\n",
    "        Maximum number of iterations\n",
    "    \n",
    "    Returns:\n",
    "    x_min, y_min : float\n",
    "        The coordinates of the minimum point found by gradient descent\n",
    "    \"\"\"\n",
    "    x = x0\n",
    "    y = y0\n",
    "    for _ in range(num_iterations):\n",
    "        dx, dy = grad_f(x, y)\n",
    "        x -= alpha * dx\n",
    "        y -= alpha * dy\n",
    "    return x, y\n"
   ]
  }
 ],
 "metadata": {
  "kernelspec": {
   "display_name": "Python 3 (ipykernel)",
   "language": "python",
   "name": "python3"
  },
  "language_info": {
   "codemirror_mode": {
    "name": "ipython",
    "version": 3
   },
   "file_extension": ".py",
   "mimetype": "text/x-python",
   "name": "python",
   "nbconvert_exporter": "python",
   "pygments_lexer": "ipython3",
   "version": "3.11.4"
  }
 },
 "nbformat": 4,
 "nbformat_minor": 5
}
