{
 "cells": [
  {
   "cell_type": "code",
   "execution_count": null,
   "id": "5fb6a120",
   "metadata": {},
   "outputs": [],
   "source": [
    "import numpy as np\n",
    "import matplotlib.pyplot as plt\n",
    "\n",
    "def normal_density(mean, variance, x):\n",
    "    \"\"\"\n",
    "    Compute the value of the normal density function at a given point x.\n",
    "    \n",
    "    Parameters:\n",
    "    mean : float\n",
    "        Mean of the normal distribution (µ)\n",
    "    variance : float\n",
    "        Variance of the normal distribution (σ^2)\n",
    "    x : float\n",
    "        Point at which to compute the normal density\n",
    "    \n",
    "    Returns:\n",
    "    float\n",
    "        Value of the normal density function at x\n",
    "    \"\"\"\n",
    "    coeff = 1 / np.sqrt(2 * np.pi * variance)\n",
    "    exponent = -0.5 * ((x - mean) ** 2) / variance\n",
    "    return coeff * np.exp(exponent)\n",
    "\n",
    "# Example usage\n",
    "x_values = np.linspace(-5, 5, 100)\n",
    "mu_values = [0, 1, -1]\n",
    "sigma_values = [1, 0.5, 2]\n",
    "\n",
    "plt.figure(figsize=(10, 6))\n",
    "for mu in mu_values:\n",
    "    for sigma in sigma_values:\n",
    "        label = f'mean={mu}, variance={sigma**2}'\n",
    "        plt.plot(x_values, normal_density(mu, sigma**2, x_values), label=label)\n",
    "\n",
    "plt.title('Normal Density Function')\n",
    "plt.xlabel('x')\n",
    "plt.ylabel('f(x)')\n",
    "plt.legend()\n",
    "plt.grid(True)\n",
    "plt.show()\n"
   ]
  }
 ],
 "metadata": {
  "kernelspec": {
   "display_name": "Python 3 (ipykernel)",
   "language": "python",
   "name": "python3"
  },
  "language_info": {
   "codemirror_mode": {
    "name": "ipython",
    "version": 3
   },
   "file_extension": ".py",
   "mimetype": "text/x-python",
   "name": "python",
   "nbconvert_exporter": "python",
   "pygments_lexer": "ipython3",
   "version": "3.11.4"
  }
 },
 "nbformat": 4,
 "nbformat_minor": 5
}
