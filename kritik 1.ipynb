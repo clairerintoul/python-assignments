{
 "cells": [
  {
   "cell_type": "code",
   "execution_count": null,
   "id": "cd8e5038",
   "metadata": {},
   "outputs": [],
   "source": [
    "def arctan_approximation(x):\n",
    "    \"\"\"\n",
    "    Approximates arctan(x) using a polynomial approximation.\n",
    "    \n",
    "    Parameters:\n",
    "    x : float\n",
    "        The value for which to approximate arctan(x)\n",
    "        \n",
    "    Returns:\n",
    "    tuple or str\n",
    "        If x is not in the interval [0, 1], returns \"Error!\"\n",
    "        If x is in the interval [0, 1], returns a tuple (a, n, error_bound),\n",
    "        where a is the approximation, n is the size of the degree of the polynomial,\n",
    "        and error_bound is an upper bound on the error\n",
    "    \"\"\"\n",
    "    if x < 0 or x > 1:\n",
    "        return \"Error!\"\n",
    "    \n",
    "    a = 0\n",
    "    n = 0\n",
    "    error_bound = 0\n",
    "    \n",
    "    while True:\n",
    "        term = ((-1) ** n) * (x ** (2 * n + 1)) / (2 * n + 1)\n",
    "        if abs(term) < 0.0001:\n",
    "            break\n",
    "        a += term\n",
    "        n += 1\n",
    "        error_bound = x ** (2 * n + 1) / (2 * n + 1)\n",
    "    \n",
    "    return a, n, error_bound\n",
    "\n",
    "# Test cases\n",
    "test_values = [-1, 0, 0.25, 0.5, 0.75, 1]\n",
    "for value in test_values:\n",
    "    result = arctan_approximation(value)\n",
    "    print(f\"Input: {value}, Output: {result}\")\n"
   ]
  }
 ],
 "metadata": {
  "kernelspec": {
   "display_name": "Python 3 (ipykernel)",
   "language": "python",
   "name": "python3"
  },
  "language_info": {
   "codemirror_mode": {
    "name": "ipython",
    "version": 3
   },
   "file_extension": ".py",
   "mimetype": "text/x-python",
   "name": "python",
   "nbconvert_exporter": "python",
   "pygments_lexer": "ipython3",
   "version": "3.11.4"
  }
 },
 "nbformat": 4,
 "nbformat_minor": 5
}
