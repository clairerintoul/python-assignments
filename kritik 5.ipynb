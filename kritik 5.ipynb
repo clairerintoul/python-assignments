{
 "cells": [
  {
   "cell_type": "code",
   "execution_count": null,
   "id": "39d1bfdb",
   "metadata": {},
   "outputs": [],
   "source": [
    "import numpy as np\n",
    "import matplotlib.pyplot as plt\n",
    "\n",
    "# Define vertices of the triangle\n",
    "vertices = np.array([[0, 0], [1, 0], [0.5, np.sqrt(3)/2]])\n",
    "\n",
    "# Initialize the starting point randomly within the triangle\n",
    "point = np.random.rand(2)\n",
    "\n",
    "# Number of iterations\n",
    "num_iterations = 10000\n",
    "\n",
    "# Define the transformation function (midpoint)\n",
    "def midpoint(p):\n",
    "    vertex = vertices[np.random.randint(3)]\n",
    "    return (p + vertex) / 2\n",
    "\n",
    "# Iterate the chaos game\n",
    "for _ in range(num_iterations):\n",
    "    point = midpoint(point)\n",
    "\n",
    "# Plot the result\n",
    "plt.figure(figsize=(6, 6))\n",
    "plt.scatter(vertices[:, 0], vertices[:, 1], c='red', marker='o', label='Vertices')\n",
    "plt.scatter(point[0], point[1], c='blue', marker='.', label='Generated Point')\n",
    "plt.title('Chaos Game: Sierpinski Triangle')\n",
    "plt.legend()\n",
    "plt.xlim(-0.1, 1.1)\n",
    "plt.ylim(-0.1, 1.1)\n",
    "plt.gca().set_aspect('equal', adjustable='box')\n",
    "plt.show()\n"
   ]
  }
 ],
 "metadata": {
  "kernelspec": {
   "display_name": "Python 3 (ipykernel)",
   "language": "python",
   "name": "python3"
  },
  "language_info": {
   "codemirror_mode": {
    "name": "ipython",
    "version": 3
   },
   "file_extension": ".py",
   "mimetype": "text/x-python",
   "name": "python",
   "nbconvert_exporter": "python",
   "pygments_lexer": "ipython3",
   "version": "3.11.4"
  }
 },
 "nbformat": 4,
 "nbformat_minor": 5
}
